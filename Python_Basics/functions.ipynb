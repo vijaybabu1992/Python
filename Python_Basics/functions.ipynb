{
 "cells": [
  {
   "cell_type": "markdown",
   "id": "cc66beec-8598-491d-a32c-206082aba16e",
   "metadata": {},
   "source": [
    "### Basic Function Definition and Invocation:"
   ]
  },
  {
   "cell_type": "code",
   "execution_count": 1,
   "id": "db5d4182-ddce-495c-a902-1f5c806e5987",
   "metadata": {},
   "outputs": [
    {
     "name": "stdout",
     "output_type": "stream",
     "text": [
      "Hello, Alice!\n"
     ]
    }
   ],
   "source": [
    "# Define a function\n",
    "def greet(name):\n",
    "    return f\"Hello, {name}!\"\n",
    "\n",
    "# Call the function\n",
    "print(greet(\"Alice\"))\n"
   ]
  },
  {
   "cell_type": "markdown",
   "id": "b071c09e-df6a-4c51-817b-6bea73331487",
   "metadata": {},
   "source": [
    "### Function with Default Arguments:"
   ]
  },
  {
   "cell_type": "code",
   "execution_count": 2,
   "id": "7c31de3a-5a0b-4546-8819-5bf0e4986b83",
   "metadata": {},
   "outputs": [
    {
     "name": "stdout",
     "output_type": "stream",
     "text": [
      "Hello, World!\n",
      "Hello, Alice!\n"
     ]
    }
   ],
   "source": [
    "# Define a function with default argument\n",
    "def greet(name=\"World\"):\n",
    "    return f\"Hello, {name}!\"\n",
    "\n",
    "# Call the function\n",
    "print(greet())\n",
    "print(greet(\"Alice\"))\n"
   ]
  },
  {
   "cell_type": "markdown",
   "id": "6bb72262-e1e3-467e-b5e0-545661726508",
   "metadata": {},
   "source": [
    "### Function with Variable Number of Arguments:"
   ]
  },
  {
   "cell_type": "code",
   "execution_count": 3,
   "id": "2a361650-2d95-4199-a166-5e4e8b3ee479",
   "metadata": {},
   "outputs": [
    {
     "name": "stdout",
     "output_type": "stream",
     "text": [
      "24\n",
      "1680\n"
     ]
    }
   ],
   "source": [
    "# Define a function with variable number of arguments\n",
    "def multiply(*args):\n",
    "    result = 1\n",
    "    for num in args:\n",
    "        result *= num\n",
    "    return result\n",
    "\n",
    "# Call the function\n",
    "print(multiply(2, 3, 4))\n",
    "print(multiply(5, 6, 7, 8))\n"
   ]
  },
  {
   "cell_type": "markdown",
   "id": "ea2ee129-7522-4f9d-8d62-2af472087364",
   "metadata": {},
   "source": [
    "### Function with Keyword Arguments:"
   ]
  },
  {
   "cell_type": "code",
   "execution_count": 5,
   "id": "98c161a7-d243-47f2-a90e-cd2b488f1e1b",
   "metadata": {},
   "outputs": [
    {
     "name": "stdout",
     "output_type": "stream",
     "text": [
      "{'name': 'Alice', 'age': 30, 'city': 'New York', 'profession': 'Engineer'}\n"
     ]
    }
   ],
   "source": [
    "# Define a function with keyword arguments\n",
    "def person_info(name, age, **kwargs):\n",
    "    info = {\"name\": name, \"age\": age}\n",
    "    info.update(kwargs)\n",
    "    return info\n",
    "\n",
    "# Call the function\n",
    "print(person_info(\"Alice\", 30, city=\"New York\", profession=\"Engineer\"))\n"
   ]
  },
  {
   "cell_type": "markdown",
   "id": "481a5c8e-bf86-4ebb-838f-728fce37b3ed",
   "metadata": {},
   "source": [
    "### Function as a First-Class Citizen:"
   ]
  },
  {
   "cell_type": "code",
   "execution_count": 6,
   "id": "164ba251-eb8f-4282-b62d-a3edf6511f04",
   "metadata": {},
   "outputs": [
    {
     "name": "stdout",
     "output_type": "stream",
     "text": [
      "9\n",
      "27\n"
     ]
    }
   ],
   "source": [
    "# Define a function that takes another function as argument\n",
    "def apply_operation(func, num):\n",
    "    return func(num)\n",
    "\n",
    "# Define additional functions\n",
    "def square(x):\n",
    "    return x ** 2\n",
    "\n",
    "def cube(x):\n",
    "    return x ** 3\n",
    "\n",
    "# Call the function with different operations\n",
    "print(apply_operation(square, 3))\n",
    "print(apply_operation(cube, 3))\n"
   ]
  },
  {
   "cell_type": "markdown",
   "id": "751dd620-ccd1-42e3-b312-bbbd45f1507a",
   "metadata": {},
   "source": [
    "### Lambda Functions (Anonymous Functions):"
   ]
  },
  {
   "cell_type": "code",
   "execution_count": 7,
   "id": "61e48c53-a60a-4305-89ca-f238d25be36c",
   "metadata": {},
   "outputs": [
    {
     "name": "stdout",
     "output_type": "stream",
     "text": [
      "5\n"
     ]
    }
   ],
   "source": [
    "# Define a lambda function\n",
    "add = lambda x, y: x + y\n",
    "\n",
    "# Call the lambda function\n",
    "print(add(2, 3))\n"
   ]
  },
  {
   "cell_type": "markdown",
   "id": "2af0feab-626a-4fb6-9ec9-8a228efe2780",
   "metadata": {},
   "source": [
    "### Recursion:"
   ]
  },
  {
   "cell_type": "code",
   "execution_count": 8,
   "id": "df329da4-4b18-461f-97bb-642f29a347bd",
   "metadata": {},
   "outputs": [
    {
     "name": "stdout",
     "output_type": "stream",
     "text": [
      "120\n"
     ]
    }
   ],
   "source": [
    "# Define a recursive function to calculate factorial\n",
    "def factorial(n):\n",
    "    if n == 0:\n",
    "        return 1\n",
    "    else:\n",
    "        return n * factorial(n - 1)\n",
    "\n",
    "# Call the recursive function\n",
    "print(factorial(5))\n"
   ]
  },
  {
   "cell_type": "markdown",
   "id": "9dfea237-16eb-48b3-a964-5ac434d2c8f5",
   "metadata": {},
   "source": [
    "### Higher-Order Functions:"
   ]
  },
  {
   "cell_type": "code",
   "execution_count": 9,
   "id": "2aefaf09-0eaf-4a46-bb1e-dea61f3aae78",
   "metadata": {},
   "outputs": [
    {
     "name": "stdout",
     "output_type": "stream",
     "text": [
      "9\n"
     ]
    }
   ],
   "source": [
    "# Define a higher-order function\n",
    "def apply_operation(func, num):\n",
    "    return func(num)\n",
    "\n",
    "# Define a function to square a number\n",
    "def square(x):\n",
    "    return x ** 2\n",
    "\n",
    "# Call the higher-order function with square function\n",
    "print(apply_operation(square, 3))\n"
   ]
  },
  {
   "cell_type": "code",
   "execution_count": null,
   "id": "25d2ecb8-2632-4b09-9dc7-348eb02b6480",
   "metadata": {},
   "outputs": [],
   "source": []
  }
 ],
 "metadata": {
  "kernelspec": {
   "display_name": "Python 3 (ipykernel)",
   "language": "python",
   "name": "python3"
  },
  "language_info": {
   "codemirror_mode": {
    "name": "ipython",
    "version": 3
   },
   "file_extension": ".py",
   "mimetype": "text/x-python",
   "name": "python",
   "nbconvert_exporter": "python",
   "pygments_lexer": "ipython3",
   "version": "3.11.7"
  }
 },
 "nbformat": 4,
 "nbformat_minor": 5
}
